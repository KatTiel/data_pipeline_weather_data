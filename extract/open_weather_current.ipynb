{
 "cells": [
  {
   "cell_type": "code",
   "execution_count": 134,
   "id": "cdcd40e8",
   "metadata": {},
   "outputs": [],
   "source": [
    "import datetime\n",
    "import json\n",
    "import pandas as pd\n",
    "import requests\n",
    "import sqlalchemy\n",
    "import pandas.io.sql as sqlio \n",
    "import psycopg2 as ps \n",
    "\n",
    "f = open(\"credentials.json\")\n",
    "credentials = json.load(f)\n",
    "\n",
    "my_path = list(credentials.values())[0]\n",
    "weather_key = list(credentials.values())[1]\n",
    "aws_access_key = list(credentials.values())[2]\n",
    "aws_secret_key = list(credentials.values())[3]\n",
    "rds_host = list(credentials.values())[4]\n",
    "rds_user = list(credentials.values())[5]\n",
    "rds_password = list(credentials.values())[6]\n",
    "rds_database = list(credentials.values())[7]\n",
    "rds_charset = list(credentials.values())[8]\n",
    "rds_port = list(credentials.values())[9]"
   ]
  },
  {
   "cell_type": "code",
   "execution_count": null,
   "id": "2e1fe4cc",
   "metadata": {},
   "outputs": [],
   "source": [
    "# Connecting to AWS PostgreSQL DB\n",
    "try:\n",
    "    conn2 = ps.connect(dbname = rds_database, \n",
    "                       user = rds_user, \n",
    "                       password = rds_password, \n",
    "                       host = rds_host, \n",
    "                       port = rds_port)\n",
    "    conn2.autocommit = True\n",
    "    cur = conn2.cursor()\n",
    "    print('Connection established.')\n",
    "except:\n",
    "    print(\"Error while connecting to PostgreSQL.\")"
   ]
  },
  {
   "cell_type": "code",
   "execution_count": null,
   "id": "bed1e777",
   "metadata": {},
   "outputs": [],
   "source": [
    "# Request current weather data\n",
    "location = pd.DataFrame({'city_name': ['Berlin', 'Tulum', 'Ko Tao', 'Parque Nacional Corcovado', 'San Diego'], 'latitude': [52.520007, 20.211419, 10.095610, 8.540835, 32.715738 ] , 'longitude': [13.404954, -87.465350, 99.840396, -83.570964, -117.161084]})\n",
    "\n",
    "openweathermap_api_key = weather_key\n",
    "\n",
    "def current_weather(row):\n",
    "    url = f\"https://api.openweathermap.org/data/2.5/weather?lat={row.latitude}&lon={row.longitude}&appid={openweathermap_api_key}\"\n",
    "    response = requests.get(url)\n",
    "    response_json = response.json()\n",
    "    date = datetime.datetime.fromtimestamp(response_json[\"dt\"])\n",
    "    today = date.today()\n",
    "    today_year = today.year\n",
    "    return {\n",
    "        \"date_column\": date,\n",
    "        \"main.temp\": response_json[\"main\"][\"temp\"] - 273.15,\n",
    "        \"rain.1h\": response_json.get(\"rain\", {}).get(\"1h\", 0.0),\n",
    "        \"Y\": today_year\n",
    "    }\n",
    "\n",
    "df_weather = location.apply(lambda x: current_weather(x), axis=1)\n",
    "current_weather = pd.concat([location, pd.json_normalize(df_weather)], axis=1)\n",
    "current_weather = current_weather.drop(['latitude', 'longitude'], axis=1)\n",
    "print(current_weather)"
   ]
  },
  {
   "cell_type": "code",
   "execution_count": null,
   "id": "213b8410",
   "metadata": {},
   "outputs": [],
   "source": [
    "# Create RDS table for current weather\n",
    "try:\n",
    "    cur.execute(\"create table if not exists weather_current (city_name varchar(255) primary key, date_column timestamp, \\\"main.temp\\\" float8, \\\"rain.1h\\\" float8, Y int, CONSTRAINT weather_current_unique_constraint UNIQUE (city_name, date_column))\")\n",
    "    print(\"Table created successfully\")\n",
    "except:\n",
    "    print(\"Error while creating table\")\n",
    "\n",
    "# Insert current weather data into table\n",
    "try:\n",
    "    for i, row in current_weather.iterrows():\n",
    "        cur.execute(\"insert into weather_current (city_name, date_column, \\\"main.temp\\\", \\\"rain.1h\\\", Y) values (%s, %s, %s, %s, %s)\", (\n",
    "            row['city_name'], row['date_column'], row['main.temp'], row['rain.1h'], row['Y']))\n",
    "        print(\"Data inserted successfully\")\n",
    "except:\n",
    "    print(\"Error while inserting data into table\")\n",
    "\n",
    "conn2.commit()    \n",
    "cur.close()\n",
    "conn2.close()"
   ]
  },
  {
   "cell_type": "code",
   "execution_count": null,
   "id": "d0d8d509-fb76-459e-ae19-5c78cdd53047",
   "metadata": {},
   "outputs": [],
   "source": []
  }
 ],
 "metadata": {
  "kernelspec": {
   "display_name": "Python 3 (ipykernel)",
   "language": "python",
   "name": "python3"
  },
  "language_info": {
   "codemirror_mode": {
    "name": "ipython",
    "version": 3
   },
   "file_extension": ".py",
   "mimetype": "text/x-python",
   "name": "python",
   "nbconvert_exporter": "python",
   "pygments_lexer": "ipython3",
   "version": "3.10.2"
  }
 },
 "nbformat": 4,
 "nbformat_minor": 5
}
